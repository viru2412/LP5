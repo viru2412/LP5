{
 "cells": [
  {
   "cell_type": "code",
   "execution_count": 1,
   "metadata": {
    "colab": {
     "base_uri": "https://localhost:8080/"
    },
    "executionInfo": {
     "elapsed": 8856,
     "status": "ok",
     "timestamp": 1676266585832,
     "user": {
      "displayName": "Subhojit Deb",
      "userId": "14618455809485457693"
     },
     "user_tz": -330
    },
    "id": "26yLObMzOzGh",
    "outputId": "2a000cdd-9fda-47d6-8098-e2ec2036304e"
   },
   "outputs": [
    {
     "name": "stdout",
     "output_type": "stream",
     "text": [
      "WARNING:tensorflow:From C:\\ProgramData\\anaconda3\\Lib\\site-packages\\keras\\src\\losses.py:2976: The name tf.losses.sparse_softmax_cross_entropy is deprecated. Please use tf.compat.v1.losses.sparse_softmax_cross_entropy instead.\n",
      "\n",
      "Downloading data from https://storage.googleapis.com/tensorflow/tf-keras-datasets/imdb.npz\n",
      "17464789/17464789 [==============================] - 3s 0us/step\n"
     ]
    },
    {
     "data": {
      "text/plain": [
       "[1,\n",
       " 14,\n",
       " 22,\n",
       " 16,\n",
       " 43,\n",
       " 530,\n",
       " 973,\n",
       " 1622,\n",
       " 1385,\n",
       " 65,\n",
       " 458,\n",
       " 4468,\n",
       " 66,\n",
       " 3941,\n",
       " 4,\n",
       " 173,\n",
       " 36,\n",
       " 256,\n",
       " 5,\n",
       " 25,\n",
       " 100,\n",
       " 43,\n",
       " 838,\n",
       " 112,\n",
       " 50,\n",
       " 670,\n",
       " 2,\n",
       " 9,\n",
       " 35,\n",
       " 480,\n",
       " 284,\n",
       " 5,\n",
       " 150,\n",
       " 4,\n",
       " 172,\n",
       " 112,\n",
       " 167,\n",
       " 2,\n",
       " 336,\n",
       " 385,\n",
       " 39,\n",
       " 4,\n",
       " 172,\n",
       " 4536,\n",
       " 1111,\n",
       " 17,\n",
       " 546,\n",
       " 38,\n",
       " 13,\n",
       " 447,\n",
       " 4,\n",
       " 192,\n",
       " 50,\n",
       " 16,\n",
       " 6,\n",
       " 147,\n",
       " 2025,\n",
       " 19,\n",
       " 14,\n",
       " 22,\n",
       " 4,\n",
       " 1920,\n",
       " 4613,\n",
       " 469,\n",
       " 4,\n",
       " 22,\n",
       " 71,\n",
       " 87,\n",
       " 12,\n",
       " 16,\n",
       " 43,\n",
       " 530,\n",
       " 38,\n",
       " 76,\n",
       " 15,\n",
       " 13,\n",
       " 1247,\n",
       " 4,\n",
       " 22,\n",
       " 17,\n",
       " 515,\n",
       " 17,\n",
       " 12,\n",
       " 16,\n",
       " 626,\n",
       " 18,\n",
       " 2,\n",
       " 5,\n",
       " 62,\n",
       " 386,\n",
       " 12,\n",
       " 8,\n",
       " 316,\n",
       " 8,\n",
       " 106,\n",
       " 5,\n",
       " 4,\n",
       " 2223,\n",
       " 5244,\n",
       " 16,\n",
       " 480,\n",
       " 66,\n",
       " 3785,\n",
       " 33,\n",
       " 4,\n",
       " 130,\n",
       " 12,\n",
       " 16,\n",
       " 38,\n",
       " 619,\n",
       " 5,\n",
       " 25,\n",
       " 124,\n",
       " 51,\n",
       " 36,\n",
       " 135,\n",
       " 48,\n",
       " 25,\n",
       " 1415,\n",
       " 33,\n",
       " 6,\n",
       " 22,\n",
       " 12,\n",
       " 215,\n",
       " 28,\n",
       " 77,\n",
       " 52,\n",
       " 5,\n",
       " 14,\n",
       " 407,\n",
       " 16,\n",
       " 82,\n",
       " 2,\n",
       " 8,\n",
       " 4,\n",
       " 107,\n",
       " 117,\n",
       " 5952,\n",
       " 15,\n",
       " 256,\n",
       " 4,\n",
       " 2,\n",
       " 7,\n",
       " 3766,\n",
       " 5,\n",
       " 723,\n",
       " 36,\n",
       " 71,\n",
       " 43,\n",
       " 530,\n",
       " 476,\n",
       " 26,\n",
       " 400,\n",
       " 317,\n",
       " 46,\n",
       " 7,\n",
       " 4,\n",
       " 2,\n",
       " 1029,\n",
       " 13,\n",
       " 104,\n",
       " 88,\n",
       " 4,\n",
       " 381,\n",
       " 15,\n",
       " 297,\n",
       " 98,\n",
       " 32,\n",
       " 2071,\n",
       " 56,\n",
       " 26,\n",
       " 141,\n",
       " 6,\n",
       " 194,\n",
       " 7486,\n",
       " 18,\n",
       " 4,\n",
       " 226,\n",
       " 22,\n",
       " 21,\n",
       " 134,\n",
       " 476,\n",
       " 26,\n",
       " 480,\n",
       " 5,\n",
       " 144,\n",
       " 30,\n",
       " 5535,\n",
       " 18,\n",
       " 51,\n",
       " 36,\n",
       " 28,\n",
       " 224,\n",
       " 92,\n",
       " 25,\n",
       " 104,\n",
       " 4,\n",
       " 226,\n",
       " 65,\n",
       " 16,\n",
       " 38,\n",
       " 1334,\n",
       " 88,\n",
       " 12,\n",
       " 16,\n",
       " 283,\n",
       " 5,\n",
       " 16,\n",
       " 4472,\n",
       " 113,\n",
       " 103,\n",
       " 32,\n",
       " 15,\n",
       " 16,\n",
       " 5345,\n",
       " 19,\n",
       " 178,\n",
       " 32]"
      ]
     },
     "execution_count": 1,
     "metadata": {},
     "output_type": "execute_result"
    }
   ],
   "source": [
    "from keras.datasets import imdb\n",
    "(train_data, train_labels), (test_data, test_labels) = imdb.load_data(num_words = 10000)\n",
    "train_data[0]"
   ]
  },
  {
   "cell_type": "code",
   "execution_count": 2,
   "metadata": {
    "colab": {
     "base_uri": "https://localhost:8080/"
    },
    "executionInfo": {
     "elapsed": 7,
     "status": "ok",
     "timestamp": 1676266625063,
     "user": {
      "displayName": "Subhojit Deb",
      "userId": "14618455809485457693"
     },
     "user_tz": -330
    },
    "id": "ClUisqqWRmjq",
    "outputId": "5439f1fe-6362-4de1-ff2c-41876447461c"
   },
   "outputs": [
    {
     "data": {
      "text/plain": [
       "1"
      ]
     },
     "execution_count": 2,
     "metadata": {},
     "output_type": "execute_result"
    }
   ],
   "source": [
    "train_labels[0]"
   ]
  },
  {
   "cell_type": "code",
   "execution_count": 3,
   "metadata": {
    "colab": {
     "base_uri": "https://localhost:8080/",
     "height": 191
    },
    "executionInfo": {
     "elapsed": 1045,
     "status": "ok",
     "timestamp": 1676266701830,
     "user": {
      "displayName": "Subhojit Deb",
      "userId": "14618455809485457693"
     },
     "user_tz": -330
    },
    "id": "Q7_dAy1pR4Oo",
    "outputId": "42e39ede-27ff-4e72-b71f-72ebd0a635c9"
   },
   "outputs": [
    {
     "name": "stdout",
     "output_type": "stream",
     "text": [
      "Downloading data from https://storage.googleapis.com/tensorflow/tf-keras-datasets/imdb_word_index.json\n",
      "1641221/1641221 [==============================] - 0s 0us/step\n"
     ]
    },
    {
     "data": {
      "text/plain": [
       "\"? this film was just brilliant casting location scenery story direction everyone's really suited the part they played and you could just imagine being there robert ? is an amazing actor and now the same being director ? father came from the same scottish island as myself so i loved the fact there was a real connection with this film the witty remarks throughout the film were great it was just brilliant so much that i bought the film as soon as it was released for ? and would recommend it to everyone to watch and the fly fishing was amazing really cried at the end it was so sad and you know what they say if you cry at a film it must have been good and this definitely was also ? to the two little boy's that played the ? of norman and paul they were just brilliant children are often left out of the ? list i think because the stars that play them all grown up are such a big profile for the whole film but these children are amazing and should be praised for what they have done don't you think the whole story was so lovely because it was true and was someone's life after all that was shared with us all\""
      ]
     },
     "execution_count": 3,
     "metadata": {},
     "output_type": "execute_result"
    }
   ],
   "source": [
    "word_index = imdb.get_word_index()\n",
    "\n",
    "reverse_word_index = dict([(value, key) for (key, value) in word_index.items()])\n",
    "\n",
    "decoded_review = ' '.join([reverse_word_index.get(i-3, '?') for i in train_data[0]])\n",
    "\n",
    "decoded_review"
   ]
  },
  {
   "cell_type": "code",
   "execution_count": 4,
   "metadata": {
    "colab": {
     "base_uri": "https://localhost:8080/"
    },
    "executionInfo": {
     "elapsed": 3719,
     "status": "ok",
     "timestamp": 1676266830643,
     "user": {
      "displayName": "Subhojit Deb",
      "userId": "14618455809485457693"
     },
     "user_tz": -330
    },
    "id": "Cki8lBS5SIHi",
    "outputId": "2702238d-8bd6-4fcf-c9cf-176032940619"
   },
   "outputs": [
    {
     "data": {
      "text/plain": [
       "array([0., 1., 1., ..., 0., 0., 0.])"
      ]
     },
     "execution_count": 4,
     "metadata": {},
     "output_type": "execute_result"
    }
   ],
   "source": [
    "import numpy as np\n",
    "\n",
    "def vectorize_sequences(sequences, dimension=10000):\n",
    "    results = np.zeros((len(sequences), dimension))\n",
    "    for i,sequence in enumerate(sequences):\n",
    "        results[i,sequence] = 1\n",
    "    return results\n",
    "\n",
    "X_train = vectorize_sequences(train_data)\n",
    "\n",
    "X_test = vectorize_sequences(test_data)\n",
    "\n",
    "X_train[0]"
   ]
  },
  {
   "cell_type": "code",
   "execution_count": 5,
   "metadata": {
    "executionInfo": {
     "elapsed": 522,
     "status": "ok",
     "timestamp": 1676266899712,
     "user": {
      "displayName": "Subhojit Deb",
      "userId": "14618455809485457693"
     },
     "user_tz": -330
    },
    "id": "DZgc_IBLSq_L"
   },
   "outputs": [],
   "source": [
    "y_train = np.asarray(train_labels).astype('float32')\n",
    "y_test  = np.asarray(test_labels).astype('float32')"
   ]
  },
  {
   "cell_type": "code",
   "execution_count": 6,
   "metadata": {
    "executionInfo": {
     "elapsed": 6,
     "status": "ok",
     "timestamp": 1676266930773,
     "user": {
      "displayName": "Subhojit Deb",
      "userId": "14618455809485457693"
     },
     "user_tz": -330
    },
    "id": "CWVNUKihSw-r"
   },
   "outputs": [
    {
     "name": "stdout",
     "output_type": "stream",
     "text": [
      "WARNING:tensorflow:From C:\\ProgramData\\anaconda3\\Lib\\site-packages\\keras\\src\\backend.py:873: The name tf.get_default_graph is deprecated. Please use tf.compat.v1.get_default_graph instead.\n",
      "\n"
     ]
    }
   ],
   "source": [
    "from keras import models\n",
    "from keras import layers\n",
    "\n",
    "model = models.Sequential()\n",
    "model.add(layers.Dense(16, activation='relu', input_shape=(10000,)))\n",
    "model.add(layers.Dense(16, activation='relu'))\n",
    "model.add(layers.Dense(1, activation='sigmoid'))"
   ]
  },
  {
   "cell_type": "code",
   "execution_count": 7,
   "metadata": {
    "colab": {
     "base_uri": "https://localhost:8080/"
    },
    "executionInfo": {
     "elapsed": 6,
     "status": "ok",
     "timestamp": 1676266990230,
     "user": {
      "displayName": "Subhojit Deb",
      "userId": "14618455809485457693"
     },
     "user_tz": -330
    },
    "id": "yJPe6d08S5XV",
    "outputId": "e4eb3240-f1d1-4f0b-b42e-729453fc92c2"
   },
   "outputs": [
    {
     "name": "stderr",
     "output_type": "stream",
     "text": [
      "WARNING:absl:`lr` is deprecated in Keras optimizer, please use `learning_rate` or use the legacy optimizer, e.g.,tf.keras.optimizers.legacy.RMSprop.\n"
     ]
    }
   ],
   "source": [
    "from keras import optimizers\n",
    "from keras import losses\n",
    "from keras import metrics\n",
    "\n",
    "model.compile(optimizer=optimizers.RMSprop(lr=0.001),\n",
    "              loss = losses.binary_crossentropy,\n",
    "              metrics = [metrics.binary_accuracy])"
   ]
  },
  {
   "cell_type": "code",
   "execution_count": 8,
   "metadata": {
    "executionInfo": {
     "elapsed": 511,
     "status": "ok",
     "timestamp": 1676267262686,
     "user": {
      "displayName": "Subhojit Deb",
      "userId": "14618455809485457693"
     },
     "user_tz": -330
    },
    "id": "xqBETeL0UF_n"
   },
   "outputs": [],
   "source": [
    "X_val = X_train[:10000]\n",
    "partial_X_train = X_train[10000:]\n",
    "\n",
    "y_val = y_train[:10000]\n",
    "partial_y_train = y_train[10000:]"
   ]
  },
  {
   "cell_type": "code",
   "execution_count": null,
   "metadata": {
    "colab": {
     "base_uri": "https://localhost:8080/"
    },
    "executionInfo": {
     "elapsed": 258037,
     "status": "ok",
     "timestamp": 1676267546696,
     "user": {
      "displayName": "Subhojit Deb",
      "userId": "14618455809485457693"
     },
     "user_tz": -330
    },
    "id": "LyjrEStNUN_S",
    "outputId": "f350edb5-f864-4c6a-e910-eb1a7fb8d339"
   },
   "outputs": [
    {
     "name": "stdout",
     "output_type": "stream",
     "text": [
      "Epoch 1/200\n",
      "WARNING:tensorflow:From C:\\ProgramData\\anaconda3\\Lib\\site-packages\\keras\\src\\utils\\tf_utils.py:492: The name tf.ragged.RaggedTensorValue is deprecated. Please use tf.compat.v1.ragged.RaggedTensorValue instead.\n",
      "\n"
     ]
    },
    {
     "name": "stderr",
     "output_type": "stream",
     "text": [
      "WARNING:tensorflow:From C:\\ProgramData\\anaconda3\\Lib\\site-packages\\keras\\src\\utils\\tf_utils.py:492: The name tf.ragged.RaggedTensorValue is deprecated. Please use tf.compat.v1.ragged.RaggedTensorValue instead.\n",
      "\n"
     ]
    },
    {
     "name": "stdout",
     "output_type": "stream",
     "text": [
      "WARNING:tensorflow:From C:\\ProgramData\\anaconda3\\Lib\\site-packages\\keras\\src\\engine\\base_layer_utils.py:384: The name tf.executing_eagerly_outside_functions is deprecated. Please use tf.compat.v1.executing_eagerly_outside_functions instead.\n",
      "\n"
     ]
    },
    {
     "name": "stderr",
     "output_type": "stream",
     "text": [
      "WARNING:tensorflow:From C:\\ProgramData\\anaconda3\\Lib\\site-packages\\keras\\src\\engine\\base_layer_utils.py:384: The name tf.executing_eagerly_outside_functions is deprecated. Please use tf.compat.v1.executing_eagerly_outside_functions instead.\n",
      "\n"
     ]
    },
    {
     "name": "stdout",
     "output_type": "stream",
     "text": [
      "30/30 [==============================] - 7s 144ms/step - loss: 0.5238 - binary_accuracy: 0.7823 - val_loss: 0.4021 - val_binary_accuracy: 0.8573\n",
      "Epoch 2/200\n",
      "30/30 [==============================] - 1s 17ms/step - loss: 0.3279 - binary_accuracy: 0.8943 - val_loss: 0.3158 - val_binary_accuracy: 0.8852\n",
      "Epoch 3/200\n",
      "30/30 [==============================] - 1s 17ms/step - loss: 0.2487 - binary_accuracy: 0.9180 - val_loss: 0.2869 - val_binary_accuracy: 0.8886\n",
      "Epoch 4/200\n",
      "30/30 [==============================] - 1s 19ms/step - loss: 0.2021 - binary_accuracy: 0.9335 - val_loss: 0.2790 - val_binary_accuracy: 0.8887\n",
      "Epoch 5/200\n",
      "30/30 [==============================] - 1s 20ms/step - loss: 0.1706 - binary_accuracy: 0.9445 - val_loss: 0.2804 - val_binary_accuracy: 0.8877\n",
      "Epoch 6/200\n",
      "30/30 [==============================] - 1s 20ms/step - loss: 0.1478 - binary_accuracy: 0.9516 - val_loss: 0.2845 - val_binary_accuracy: 0.8867\n",
      "Epoch 7/200\n",
      "30/30 [==============================] - 1s 19ms/step - loss: 0.1272 - binary_accuracy: 0.9613 - val_loss: 0.2905 - val_binary_accuracy: 0.8854\n",
      "Epoch 8/200\n",
      "30/30 [==============================] - 1s 18ms/step - loss: 0.1076 - binary_accuracy: 0.9687 - val_loss: 0.3102 - val_binary_accuracy: 0.8849\n",
      "Epoch 9/200\n",
      "30/30 [==============================] - 1s 19ms/step - loss: 0.0974 - binary_accuracy: 0.9711 - val_loss: 0.3303 - val_binary_accuracy: 0.8763\n",
      "Epoch 10/200\n",
      "30/30 [==============================] - 1s 19ms/step - loss: 0.0823 - binary_accuracy: 0.9765 - val_loss: 0.3563 - val_binary_accuracy: 0.8723\n",
      "Epoch 11/200\n",
      "30/30 [==============================] - 1s 19ms/step - loss: 0.0735 - binary_accuracy: 0.9805 - val_loss: 0.3581 - val_binary_accuracy: 0.8761\n",
      "Epoch 12/200\n",
      "30/30 [==============================] - 1s 18ms/step - loss: 0.0634 - binary_accuracy: 0.9829 - val_loss: 0.3768 - val_binary_accuracy: 0.8756\n",
      "Epoch 13/200\n",
      "30/30 [==============================] - 1s 18ms/step - loss: 0.0545 - binary_accuracy: 0.9866 - val_loss: 0.3894 - val_binary_accuracy: 0.8788\n",
      "Epoch 14/200\n",
      "30/30 [==============================] - 1s 17ms/step - loss: 0.0460 - binary_accuracy: 0.9897 - val_loss: 0.4118 - val_binary_accuracy: 0.8771\n",
      "Epoch 15/200\n",
      "30/30 [==============================] - 1s 17ms/step - loss: 0.0410 - binary_accuracy: 0.9904 - val_loss: 0.4359 - val_binary_accuracy: 0.8753\n",
      "Epoch 16/200\n",
      "30/30 [==============================] - 1s 17ms/step - loss: 0.0338 - binary_accuracy: 0.9928 - val_loss: 0.4622 - val_binary_accuracy: 0.8728\n",
      "Epoch 17/200\n",
      "30/30 [==============================] - 0s 17ms/step - loss: 0.0292 - binary_accuracy: 0.9942 - val_loss: 0.4928 - val_binary_accuracy: 0.8692\n",
      "Epoch 18/200\n",
      "30/30 [==============================] - 0s 16ms/step - loss: 0.0252 - binary_accuracy: 0.9962 - val_loss: 0.5074 - val_binary_accuracy: 0.8720\n",
      "Epoch 19/200\n",
      "30/30 [==============================] - 1s 16ms/step - loss: 0.0223 - binary_accuracy: 0.9965 - val_loss: 0.5346 - val_binary_accuracy: 0.8712\n",
      "Epoch 20/200\n",
      "30/30 [==============================] - 1s 17ms/step - loss: 0.0170 - binary_accuracy: 0.9983 - val_loss: 0.5659 - val_binary_accuracy: 0.8702\n",
      "Epoch 21/200\n",
      "30/30 [==============================] - 0s 17ms/step - loss: 0.0186 - binary_accuracy: 0.9961 - val_loss: 0.5821 - val_binary_accuracy: 0.8703\n",
      "Epoch 22/200\n",
      "30/30 [==============================] - 1s 17ms/step - loss: 0.0147 - binary_accuracy: 0.9969 - val_loss: 0.6097 - val_binary_accuracy: 0.8671\n",
      "Epoch 23/200\n",
      "30/30 [==============================] - 1s 17ms/step - loss: 0.0082 - binary_accuracy: 0.9997 - val_loss: 0.6342 - val_binary_accuracy: 0.8688\n",
      "Epoch 24/200\n",
      "30/30 [==============================] - 0s 17ms/step - loss: 0.0129 - binary_accuracy: 0.9976 - val_loss: 0.6480 - val_binary_accuracy: 0.8700\n",
      "Epoch 25/200\n",
      "30/30 [==============================] - 1s 17ms/step - loss: 0.0108 - binary_accuracy: 0.9979 - val_loss: 0.6704 - val_binary_accuracy: 0.8674\n",
      "Epoch 26/200\n",
      "30/30 [==============================] - 1s 17ms/step - loss: 0.0054 - binary_accuracy: 0.9999 - val_loss: 0.7510 - val_binary_accuracy: 0.8608\n",
      "Epoch 27/200\n",
      "30/30 [==============================] - 1s 17ms/step - loss: 0.0059 - binary_accuracy: 0.9999 - val_loss: 0.8056 - val_binary_accuracy: 0.8587\n",
      "Epoch 28/200\n",
      "30/30 [==============================] - 1s 17ms/step - loss: 0.0061 - binary_accuracy: 0.9993 - val_loss: 0.7513 - val_binary_accuracy: 0.8656\n",
      "Epoch 29/200\n",
      "30/30 [==============================] - 1s 17ms/step - loss: 0.0093 - binary_accuracy: 0.9975 - val_loss: 0.7631 - val_binary_accuracy: 0.8680\n",
      "Epoch 30/200\n",
      "30/30 [==============================] - 1s 18ms/step - loss: 0.0028 - binary_accuracy: 0.9999 - val_loss: 0.7781 - val_binary_accuracy: 0.8690\n",
      "Epoch 31/200\n",
      "30/30 [==============================] - 1s 17ms/step - loss: 0.0051 - binary_accuracy: 0.9993 - val_loss: 0.7992 - val_binary_accuracy: 0.8677\n",
      "Epoch 32/200\n",
      "30/30 [==============================] - 1s 18ms/step - loss: 0.0051 - binary_accuracy: 0.9989 - val_loss: 0.8244 - val_binary_accuracy: 0.8683\n",
      "Epoch 33/200\n",
      "30/30 [==============================] - 1s 17ms/step - loss: 0.0020 - binary_accuracy: 0.9999 - val_loss: 0.8374 - val_binary_accuracy: 0.8670\n",
      "Epoch 34/200\n",
      "30/30 [==============================] - 0s 16ms/step - loss: 0.0029 - binary_accuracy: 0.9995 - val_loss: 0.9167 - val_binary_accuracy: 0.8614\n",
      "Epoch 35/200\n",
      "30/30 [==============================] - 1s 17ms/step - loss: 0.0018 - binary_accuracy: 0.9999 - val_loss: 0.8705 - val_binary_accuracy: 0.8675\n",
      "Epoch 36/200\n",
      "30/30 [==============================] - 1s 17ms/step - loss: 0.0013 - binary_accuracy: 0.9999 - val_loss: 0.8926 - val_binary_accuracy: 0.8669\n",
      "Epoch 37/200\n",
      "30/30 [==============================] - 1s 17ms/step - loss: 0.0050 - binary_accuracy: 0.9987 - val_loss: 0.9148 - val_binary_accuracy: 0.8669\n",
      "Epoch 38/200\n",
      "30/30 [==============================] - 0s 17ms/step - loss: 0.0010 - binary_accuracy: 1.0000 - val_loss: 0.9292 - val_binary_accuracy: 0.8667\n",
      "Epoch 39/200\n",
      "30/30 [==============================] - 1s 18ms/step - loss: 9.8360e-04 - binary_accuracy: 1.0000 - val_loss: 1.0811 - val_binary_accuracy: 0.8519\n",
      "Epoch 40/200\n",
      "30/30 [==============================] - 0s 16ms/step - loss: 0.0040 - binary_accuracy: 0.9989 - val_loss: 0.9613 - val_binary_accuracy: 0.8675\n",
      "Epoch 41/200\n",
      "30/30 [==============================] - 1s 17ms/step - loss: 7.6424e-04 - binary_accuracy: 1.0000 - val_loss: 0.9792 - val_binary_accuracy: 0.8665\n",
      "Epoch 42/200\n",
      "30/30 [==============================] - 1s 18ms/step - loss: 0.0054 - binary_accuracy: 0.9987 - val_loss: 1.0077 - val_binary_accuracy: 0.8665\n",
      "Epoch 43/200\n",
      "30/30 [==============================] - 1s 18ms/step - loss: 6.0644e-04 - binary_accuracy: 1.0000 - val_loss: 1.0119 - val_binary_accuracy: 0.8663\n",
      "Epoch 44/200\n",
      "30/30 [==============================] - 1s 17ms/step - loss: 5.5474e-04 - binary_accuracy: 1.0000 - val_loss: 1.0247 - val_binary_accuracy: 0.8669\n",
      "Epoch 45/200\n",
      "30/30 [==============================] - 1s 18ms/step - loss: 0.0034 - binary_accuracy: 0.9990 - val_loss: 1.0478 - val_binary_accuracy: 0.8664\n",
      "Epoch 46/200\n",
      "30/30 [==============================] - 1s 18ms/step - loss: 4.8704e-04 - binary_accuracy: 1.0000 - val_loss: 1.0514 - val_binary_accuracy: 0.8673\n",
      "Epoch 47/200\n",
      "30/30 [==============================] - 1s 18ms/step - loss: 4.2735e-04 - binary_accuracy: 1.0000 - val_loss: 1.0728 - val_binary_accuracy: 0.8671\n",
      "Epoch 48/200\n",
      "30/30 [==============================] - 1s 18ms/step - loss: 0.0026 - binary_accuracy: 0.9994 - val_loss: 1.1049 - val_binary_accuracy: 0.8648\n",
      "Epoch 49/200\n",
      "30/30 [==============================] - 1s 18ms/step - loss: 3.6256e-04 - binary_accuracy: 1.0000 - val_loss: 1.1080 - val_binary_accuracy: 0.8654\n",
      "Epoch 50/200\n",
      "30/30 [==============================] - 1s 18ms/step - loss: 3.2040e-04 - binary_accuracy: 1.0000 - val_loss: 1.1250 - val_binary_accuracy: 0.8648\n",
      "Epoch 51/200\n",
      "30/30 [==============================] - 1s 18ms/step - loss: 2.8151e-04 - binary_accuracy: 1.0000 - val_loss: 1.1452 - val_binary_accuracy: 0.8659\n",
      "Epoch 52/200\n",
      "30/30 [==============================] - 1s 17ms/step - loss: 2.4200e-04 - binary_accuracy: 1.0000 - val_loss: 1.1722 - val_binary_accuracy: 0.8660\n",
      "Epoch 53/200\n"
     ]
    },
    {
     "name": "stdout",
     "output_type": "stream",
     "text": [
      "30/30 [==============================] - 0s 17ms/step - loss: 1.9843e-04 - binary_accuracy: 1.0000 - val_loss: 1.2067 - val_binary_accuracy: 0.8656\n",
      "Epoch 54/200\n",
      "30/30 [==============================] - 1s 19ms/step - loss: 1.7669e-04 - binary_accuracy: 1.0000 - val_loss: 1.2225 - val_binary_accuracy: 0.8655\n",
      "Epoch 55/200\n",
      "30/30 [==============================] - 1s 18ms/step - loss: 1.4654e-04 - binary_accuracy: 1.0000 - val_loss: 1.2401 - val_binary_accuracy: 0.8656\n",
      "Epoch 56/200\n",
      "30/30 [==============================] - 1s 18ms/step - loss: 1.2934e-04 - binary_accuracy: 1.0000 - val_loss: 1.2648 - val_binary_accuracy: 0.8653\n",
      "Epoch 57/200\n",
      "30/30 [==============================] - 1s 17ms/step - loss: 1.1755e-04 - binary_accuracy: 1.0000 - val_loss: 1.2817 - val_binary_accuracy: 0.8651\n",
      "Epoch 58/200\n",
      "30/30 [==============================] - 1s 18ms/step - loss: 1.0424e-04 - binary_accuracy: 1.0000 - val_loss: 1.2932 - val_binary_accuracy: 0.8656\n",
      "Epoch 59/200\n",
      "30/30 [==============================] - 1s 17ms/step - loss: 9.4358e-05 - binary_accuracy: 1.0000 - val_loss: 1.3106 - val_binary_accuracy: 0.8651\n",
      "Epoch 60/200\n",
      "30/30 [==============================] - 1s 17ms/step - loss: 8.7008e-05 - binary_accuracy: 1.0000 - val_loss: 1.3207 - val_binary_accuracy: 0.8653\n",
      "Epoch 61/200\n",
      "30/30 [==============================] - 0s 17ms/step - loss: 7.9976e-05 - binary_accuracy: 1.0000 - val_loss: 1.3327 - val_binary_accuracy: 0.8657\n",
      "Epoch 62/200\n",
      "30/30 [==============================] - 1s 18ms/step - loss: 7.4347e-05 - binary_accuracy: 1.0000 - val_loss: 1.3453 - val_binary_accuracy: 0.8654\n",
      "Epoch 63/200\n",
      "30/30 [==============================] - 1s 17ms/step - loss: 6.9501e-05 - binary_accuracy: 1.0000 - val_loss: 1.3542 - val_binary_accuracy: 0.8661\n",
      "Epoch 64/200\n",
      "30/30 [==============================] - 1s 17ms/step - loss: 6.4906e-05 - binary_accuracy: 1.0000 - val_loss: 1.3667 - val_binary_accuracy: 0.8653\n",
      "Epoch 65/200\n",
      "30/30 [==============================] - 0s 17ms/step - loss: 6.1334e-05 - binary_accuracy: 1.0000 - val_loss: 1.3751 - val_binary_accuracy: 0.8657\n",
      "Epoch 66/200\n",
      "30/30 [==============================] - 1s 17ms/step - loss: 5.7856e-05 - binary_accuracy: 1.0000 - val_loss: 1.3847 - val_binary_accuracy: 0.8656\n",
      "Epoch 67/200\n",
      "30/30 [==============================] - 1s 19ms/step - loss: 5.4673e-05 - binary_accuracy: 1.0000 - val_loss: 1.3941 - val_binary_accuracy: 0.8649\n",
      "Epoch 68/200\n",
      "30/30 [==============================] - 1s 18ms/step - loss: 5.1857e-05 - binary_accuracy: 1.0000 - val_loss: 1.4013 - val_binary_accuracy: 0.8662\n",
      "Epoch 69/200\n",
      "30/30 [==============================] - 1s 18ms/step - loss: 4.9299e-05 - binary_accuracy: 1.0000 - val_loss: 1.4098 - val_binary_accuracy: 0.8658\n",
      "Epoch 70/200\n",
      "30/30 [==============================] - 1s 18ms/step - loss: 4.6890e-05 - binary_accuracy: 1.0000 - val_loss: 1.4171 - val_binary_accuracy: 0.8660\n",
      "Epoch 71/200\n",
      "30/30 [==============================] - 1s 18ms/step - loss: 4.4857e-05 - binary_accuracy: 1.0000 - val_loss: 1.4270 - val_binary_accuracy: 0.8654\n",
      "Epoch 72/200\n",
      "30/30 [==============================] - 1s 20ms/step - loss: 4.2786e-05 - binary_accuracy: 1.0000 - val_loss: 1.4314 - val_binary_accuracy: 0.8662\n",
      "Epoch 73/200\n",
      "30/30 [==============================] - 1s 19ms/step - loss: 4.1267e-05 - binary_accuracy: 1.0000 - val_loss: 1.4383 - val_binary_accuracy: 0.8664\n",
      "Epoch 74/200\n",
      "30/30 [==============================] - 1s 20ms/step - loss: 3.9499e-05 - binary_accuracy: 1.0000 - val_loss: 1.4485 - val_binary_accuracy: 0.8655\n",
      "Epoch 75/200\n",
      "30/30 [==============================] - 1s 22ms/step - loss: 3.7932e-05 - binary_accuracy: 1.0000 - val_loss: 1.4526 - val_binary_accuracy: 0.8652\n",
      "Epoch 76/200\n",
      "30/30 [==============================] - 1s 20ms/step - loss: 3.6443e-05 - binary_accuracy: 1.0000 - val_loss: 1.4575 - val_binary_accuracy: 0.8663\n",
      "Epoch 77/200\n",
      "30/30 [==============================] - 1s 19ms/step - loss: 3.5179e-05 - binary_accuracy: 1.0000 - val_loss: 1.4640 - val_binary_accuracy: 0.8659\n",
      "Epoch 78/200\n",
      "30/30 [==============================] - 1s 24ms/step - loss: 3.3914e-05 - binary_accuracy: 1.0000 - val_loss: 1.4705 - val_binary_accuracy: 0.8650\n",
      "Epoch 79/200\n",
      "30/30 [==============================] - 1s 20ms/step - loss: 3.2714e-05 - binary_accuracy: 1.0000 - val_loss: 1.4775 - val_binary_accuracy: 0.8654\n",
      "Epoch 80/200\n",
      "30/30 [==============================] - 1s 20ms/step - loss: 3.1655e-05 - binary_accuracy: 1.0000 - val_loss: 1.4825 - val_binary_accuracy: 0.8651\n",
      "Epoch 81/200\n",
      "30/30 [==============================] - 1s 21ms/step - loss: 3.0643e-05 - binary_accuracy: 1.0000 - val_loss: 1.4882 - val_binary_accuracy: 0.8656\n",
      "Epoch 82/200\n",
      "30/30 [==============================] - 1s 19ms/step - loss: 2.9680e-05 - binary_accuracy: 1.0000 - val_loss: 1.4912 - val_binary_accuracy: 0.8659\n",
      "Epoch 83/200\n",
      "30/30 [==============================] - 0s 16ms/step - loss: 2.8771e-05 - binary_accuracy: 1.0000 - val_loss: 1.4980 - val_binary_accuracy: 0.8651\n",
      "Epoch 84/200\n",
      "30/30 [==============================] - 1s 17ms/step - loss: 2.7883e-05 - binary_accuracy: 1.0000 - val_loss: 1.5029 - val_binary_accuracy: 0.8653\n",
      "Epoch 85/200\n",
      "30/30 [==============================] - 1s 18ms/step - loss: 2.7155e-05 - binary_accuracy: 1.0000 - val_loss: 1.5070 - val_binary_accuracy: 0.8653\n",
      "Epoch 86/200\n",
      "30/30 [==============================] - 1s 18ms/step - loss: 2.6305e-05 - binary_accuracy: 1.0000 - val_loss: 1.5130 - val_binary_accuracy: 0.8652\n",
      "Epoch 87/200\n",
      "30/30 [==============================] - 1s 17ms/step - loss: 2.5625e-05 - binary_accuracy: 1.0000 - val_loss: 1.5175 - val_binary_accuracy: 0.8654\n",
      "Epoch 88/200\n",
      "30/30 [==============================] - 1s 18ms/step - loss: 2.5046e-05 - binary_accuracy: 1.0000 - val_loss: 1.5210 - val_binary_accuracy: 0.8654\n",
      "Epoch 89/200\n",
      "30/30 [==============================] - 1s 18ms/step - loss: 2.4319e-05 - binary_accuracy: 1.0000 - val_loss: 1.5255 - val_binary_accuracy: 0.8652\n",
      "Epoch 90/200\n",
      "30/30 [==============================] - 1s 18ms/step - loss: 2.3671e-05 - binary_accuracy: 1.0000 - val_loss: 1.5307 - val_binary_accuracy: 0.8654\n",
      "Epoch 91/200\n",
      "30/30 [==============================] - 1s 18ms/step - loss: 2.3105e-05 - binary_accuracy: 1.0000 - val_loss: 1.5341 - val_binary_accuracy: 0.8650\n",
      "Epoch 92/200\n",
      "30/30 [==============================] - 1s 18ms/step - loss: 2.2489e-05 - binary_accuracy: 1.0000 - val_loss: 1.5370 - val_binary_accuracy: 0.8657\n",
      "Epoch 93/200\n",
      "30/30 [==============================] - 1s 19ms/step - loss: 2.1942e-05 - binary_accuracy: 1.0000 - val_loss: 1.5432 - val_binary_accuracy: 0.8653\n",
      "Epoch 94/200\n",
      "30/30 [==============================] - 1s 18ms/step - loss: 2.1528e-05 - binary_accuracy: 1.0000 - val_loss: 1.5456 - val_binary_accuracy: 0.8654\n",
      "Epoch 95/200\n",
      "30/30 [==============================] - 1s 18ms/step - loss: 2.1027e-05 - binary_accuracy: 1.0000 - val_loss: 1.5498 - val_binary_accuracy: 0.8650\n",
      "Epoch 96/200\n",
      "30/30 [==============================] - 1s 19ms/step - loss: 2.0515e-05 - binary_accuracy: 1.0000 - val_loss: 1.5531 - val_binary_accuracy: 0.8655\n",
      "Epoch 97/200\n",
      "30/30 [==============================] - 1s 19ms/step - loss: 2.0030e-05 - binary_accuracy: 1.0000 - val_loss: 1.5570 - val_binary_accuracy: 0.8651\n",
      "Epoch 98/200\n",
      "30/30 [==============================] - 1s 21ms/step - loss: 1.9650e-05 - binary_accuracy: 1.0000 - val_loss: 1.5609 - val_binary_accuracy: 0.8651\n",
      "Epoch 99/200\n",
      "30/30 [==============================] - 1s 18ms/step - loss: 1.9239e-05 - binary_accuracy: 1.0000 - val_loss: 1.5641 - val_binary_accuracy: 0.8652\n",
      "Epoch 100/200\n",
      "30/30 [==============================] - 1s 18ms/step - loss: 1.8818e-05 - binary_accuracy: 1.0000 - val_loss: 1.5682 - val_binary_accuracy: 0.8655\n",
      "Epoch 101/200\n",
      "30/30 [==============================] - 1s 19ms/step - loss: 1.8458e-05 - binary_accuracy: 1.0000 - val_loss: 1.5719 - val_binary_accuracy: 0.8654\n",
      "Epoch 102/200\n",
      "30/30 [==============================] - 1s 19ms/step - loss: 1.8027e-05 - binary_accuracy: 1.0000 - val_loss: 1.5739 - val_binary_accuracy: 0.8653\n",
      "Epoch 103/200\n",
      "30/30 [==============================] - 1s 19ms/step - loss: 1.7676e-05 - binary_accuracy: 1.0000 - val_loss: 1.5771 - val_binary_accuracy: 0.8653\n"
     ]
    },
    {
     "name": "stdout",
     "output_type": "stream",
     "text": [
      "Epoch 104/200\n",
      "30/30 [==============================] - 1s 18ms/step - loss: 1.7354e-05 - binary_accuracy: 1.0000 - val_loss: 1.5817 - val_binary_accuracy: 0.8654\n",
      "Epoch 105/200\n",
      "30/30 [==============================] - 1s 18ms/step - loss: 1.7042e-05 - binary_accuracy: 1.0000 - val_loss: 1.5834 - val_binary_accuracy: 0.8654\n",
      "Epoch 106/200\n",
      "30/30 [==============================] - 1s 18ms/step - loss: 1.6695e-05 - binary_accuracy: 1.0000 - val_loss: 1.5876 - val_binary_accuracy: 0.8652\n",
      "Epoch 107/200\n",
      "30/30 [==============================] - 1s 18ms/step - loss: 1.6390e-05 - binary_accuracy: 1.0000 - val_loss: 1.5906 - val_binary_accuracy: 0.8651\n",
      "Epoch 108/200\n",
      "30/30 [==============================] - 1s 18ms/step - loss: 1.6104e-05 - binary_accuracy: 1.0000 - val_loss: 1.5928 - val_binary_accuracy: 0.8654\n",
      "Epoch 109/200\n",
      "30/30 [==============================] - 1s 19ms/step - loss: 1.5808e-05 - binary_accuracy: 1.0000 - val_loss: 1.5959 - val_binary_accuracy: 0.8653\n",
      "Epoch 110/200\n",
      "30/30 [==============================] - 1s 19ms/step - loss: 1.5517e-05 - binary_accuracy: 1.0000 - val_loss: 1.5998 - val_binary_accuracy: 0.8653\n",
      "Epoch 111/200\n",
      "30/30 [==============================] - 1s 19ms/step - loss: 1.5244e-05 - binary_accuracy: 1.0000 - val_loss: 1.6023 - val_binary_accuracy: 0.8651\n",
      "Epoch 112/200\n",
      "30/30 [==============================] - 1s 19ms/step - loss: 1.5012e-05 - binary_accuracy: 1.0000 - val_loss: 1.6049 - val_binary_accuracy: 0.8653\n",
      "Epoch 113/200\n",
      "30/30 [==============================] - 1s 19ms/step - loss: 1.4722e-05 - binary_accuracy: 1.0000 - val_loss: 1.6082 - val_binary_accuracy: 0.8653\n",
      "Epoch 114/200\n",
      "30/30 [==============================] - 1s 19ms/step - loss: 1.4512e-05 - binary_accuracy: 1.0000 - val_loss: 1.6102 - val_binary_accuracy: 0.8652\n",
      "Epoch 115/200\n",
      "30/30 [==============================] - 1s 19ms/step - loss: 1.4283e-05 - binary_accuracy: 1.0000 - val_loss: 1.6140 - val_binary_accuracy: 0.8652\n",
      "Epoch 116/200\n",
      "30/30 [==============================] - 1s 19ms/step - loss: 1.4055e-05 - binary_accuracy: 1.0000 - val_loss: 1.6162 - val_binary_accuracy: 0.8652\n",
      "Epoch 117/200\n",
      "30/30 [==============================] - 1s 19ms/step - loss: 1.3819e-05 - binary_accuracy: 1.0000 - val_loss: 1.6180 - val_binary_accuracy: 0.8653\n",
      "Epoch 118/200\n",
      "30/30 [==============================] - 1s 18ms/step - loss: 1.3604e-05 - binary_accuracy: 1.0000 - val_loss: 1.6207 - val_binary_accuracy: 0.8652\n",
      "Epoch 119/200\n",
      "30/30 [==============================] - 1s 18ms/step - loss: 1.3397e-05 - binary_accuracy: 1.0000 - val_loss: 1.6246 - val_binary_accuracy: 0.8652\n",
      "Epoch 120/200\n",
      "10/30 [=========>....................] - ETA: 0s - loss: 1.3704e-05 - binary_accuracy: 1.0000"
     ]
    }
   ],
   "source": [
    "history = model.fit(partial_X_train, partial_y_train, epochs=200, batch_size=512, validation_data=(X_val, y_val))"
   ]
  },
  {
   "cell_type": "code",
   "execution_count": null,
   "metadata": {
    "colab": {
     "base_uri": "https://localhost:8080/"
    },
    "executionInfo": {
     "elapsed": 3722,
     "status": "ok",
     "timestamp": 1676267592958,
     "user": {
      "displayName": "Subhojit Deb",
      "userId": "14618455809485457693"
     },
     "user_tz": -330
    },
    "id": "TKVTya2tWPt2",
    "outputId": "9e7ababc-1a4c-4bfe-fca7-574b8630c2bb"
   },
   "outputs": [],
   "source": [
    "mse_nn, mae_nn = model.evaluate(X_test, y_test)\n",
    "\n",
    "print('Mean squared error on test data is: ', mse_nn)\n",
    "print('Mean absolute error on test data is: ', mae_nn)"
   ]
  }
 ],
 "metadata": {
  "colab": {
   "authorship_tag": "ABX9TyOFOwC6NbCpmgwbvh7aJWd1",
   "provenance": []
  },
  "kernelspec": {
   "display_name": "Python 3 (ipykernel)",
   "language": "python",
   "name": "python3"
  },
  "language_info": {
   "codemirror_mode": {
    "name": "ipython",
    "version": 3
   },
   "file_extension": ".py",
   "mimetype": "text/x-python",
   "name": "python",
   "nbconvert_exporter": "python",
   "pygments_lexer": "ipython3",
   "version": "3.11.5"
  }
 },
 "nbformat": 4,
 "nbformat_minor": 1
}
